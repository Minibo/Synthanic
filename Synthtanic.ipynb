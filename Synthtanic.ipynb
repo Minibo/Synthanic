{
  "nbformat": 4,
  "nbformat_minor": 0,
  "metadata": {
    "colab": {
      "name": "Synthtanic.ipynb",
      "provenance": [],
      "collapsed_sections": [],
      "mount_file_id": "1DQ-BiD9IFv_6Oq4lckEf313HadLn8JM4",
      "authorship_tag": "ABX9TyN1+rKNJqCf89hO7OVtkMW8"
    },
    "kernelspec": {
      "name": "python3",
      "display_name": "Python 3"
    },
    "language_info": {
      "name": "python"
    }
  },
  "cells": [
    {
      "cell_type": "code",
      "metadata": {
        "id": "yrzhw26_J8uA"
      },
      "source": [
        "import pandas as pd\n",
        "import numpy as np"
      ],
      "execution_count": 13,
      "outputs": []
    },
    {
      "cell_type": "markdown",
      "metadata": {
        "id": "z8Cow6v-NsoH"
      },
      "source": [
        "Идея!\n",
        "Попробавать рандомный лес\n",
        "\n",
        "Попробовать классификацию\n",
        "\n",
        "Посмотреть на фичи"
      ]
    },
    {
      "cell_type": "code",
      "metadata": {
        "colab": {
          "base_uri": "https://localhost:8080/"
        },
        "id": "-rKHoTmuOclD",
        "outputId": "7accfd4f-533f-4b63-f2fd-017ef3d00cc0"
      },
      "source": [
        "!unzip '/content/drive/MyDrive/Data for Colab/Synthtanic/train.csv.zip' train.csv"
      ],
      "execution_count": 9,
      "outputs": [
        {
          "output_type": "stream",
          "text": [
            "Archive:  /content/drive/MyDrive/Data for Colab/Synthtanic/train.csv.zip\n",
            "  inflating: train.csv               \n"
          ],
          "name": "stdout"
        }
      ]
    },
    {
      "cell_type": "code",
      "metadata": {
        "id": "yTOUDPC2KhuR"
      },
      "source": [
        "train = pd.read_csv('/content/train.csv')"
      ],
      "execution_count": 12,
      "outputs": []
    },
    {
      "cell_type": "code",
      "metadata": {
        "colab": {
          "base_uri": "https://localhost:8080/",
          "height": 639
        },
        "id": "3bhWYhHjPzq8",
        "outputId": "c1047d1a-3d93-4ae0-92a1-3fecd806d9a4"
      },
      "source": [
        "train.head(20)"
      ],
      "execution_count": 15,
      "outputs": [
        {
          "output_type": "execute_result",
          "data": {
            "text/html": [
              "<div>\n",
              "<style scoped>\n",
              "    .dataframe tbody tr th:only-of-type {\n",
              "        vertical-align: middle;\n",
              "    }\n",
              "\n",
              "    .dataframe tbody tr th {\n",
              "        vertical-align: top;\n",
              "    }\n",
              "\n",
              "    .dataframe thead th {\n",
              "        text-align: right;\n",
              "    }\n",
              "</style>\n",
              "<table border=\"1\" class=\"dataframe\">\n",
              "  <thead>\n",
              "    <tr style=\"text-align: right;\">\n",
              "      <th></th>\n",
              "      <th>PassengerId</th>\n",
              "      <th>Survived</th>\n",
              "      <th>Pclass</th>\n",
              "      <th>Name</th>\n",
              "      <th>Sex</th>\n",
              "      <th>Age</th>\n",
              "      <th>SibSp</th>\n",
              "      <th>Parch</th>\n",
              "      <th>Ticket</th>\n",
              "      <th>Fare</th>\n",
              "      <th>Cabin</th>\n",
              "      <th>Embarked</th>\n",
              "    </tr>\n",
              "  </thead>\n",
              "  <tbody>\n",
              "    <tr>\n",
              "      <th>0</th>\n",
              "      <td>0</td>\n",
              "      <td>1</td>\n",
              "      <td>1</td>\n",
              "      <td>Oconnor, Frankie</td>\n",
              "      <td>male</td>\n",
              "      <td>NaN</td>\n",
              "      <td>2</td>\n",
              "      <td>0</td>\n",
              "      <td>209245</td>\n",
              "      <td>27.14</td>\n",
              "      <td>C12239</td>\n",
              "      <td>S</td>\n",
              "    </tr>\n",
              "    <tr>\n",
              "      <th>1</th>\n",
              "      <td>1</td>\n",
              "      <td>0</td>\n",
              "      <td>3</td>\n",
              "      <td>Bryan, Drew</td>\n",
              "      <td>male</td>\n",
              "      <td>NaN</td>\n",
              "      <td>0</td>\n",
              "      <td>0</td>\n",
              "      <td>27323</td>\n",
              "      <td>13.35</td>\n",
              "      <td>NaN</td>\n",
              "      <td>S</td>\n",
              "    </tr>\n",
              "    <tr>\n",
              "      <th>2</th>\n",
              "      <td>2</td>\n",
              "      <td>0</td>\n",
              "      <td>3</td>\n",
              "      <td>Owens, Kenneth</td>\n",
              "      <td>male</td>\n",
              "      <td>0.33</td>\n",
              "      <td>1</td>\n",
              "      <td>2</td>\n",
              "      <td>CA 457703</td>\n",
              "      <td>71.29</td>\n",
              "      <td>NaN</td>\n",
              "      <td>S</td>\n",
              "    </tr>\n",
              "    <tr>\n",
              "      <th>3</th>\n",
              "      <td>3</td>\n",
              "      <td>0</td>\n",
              "      <td>3</td>\n",
              "      <td>Kramer, James</td>\n",
              "      <td>male</td>\n",
              "      <td>19.00</td>\n",
              "      <td>0</td>\n",
              "      <td>0</td>\n",
              "      <td>A. 10866</td>\n",
              "      <td>13.04</td>\n",
              "      <td>NaN</td>\n",
              "      <td>S</td>\n",
              "    </tr>\n",
              "    <tr>\n",
              "      <th>4</th>\n",
              "      <td>4</td>\n",
              "      <td>1</td>\n",
              "      <td>3</td>\n",
              "      <td>Bond, Michael</td>\n",
              "      <td>male</td>\n",
              "      <td>25.00</td>\n",
              "      <td>0</td>\n",
              "      <td>0</td>\n",
              "      <td>427635</td>\n",
              "      <td>7.76</td>\n",
              "      <td>NaN</td>\n",
              "      <td>S</td>\n",
              "    </tr>\n",
              "    <tr>\n",
              "      <th>5</th>\n",
              "      <td>5</td>\n",
              "      <td>0</td>\n",
              "      <td>2</td>\n",
              "      <td>Sassano, Jonathan</td>\n",
              "      <td>male</td>\n",
              "      <td>35.00</td>\n",
              "      <td>0</td>\n",
              "      <td>0</td>\n",
              "      <td>13363</td>\n",
              "      <td>6.71</td>\n",
              "      <td>NaN</td>\n",
              "      <td>S</td>\n",
              "    </tr>\n",
              "    <tr>\n",
              "      <th>6</th>\n",
              "      <td>6</td>\n",
              "      <td>0</td>\n",
              "      <td>3</td>\n",
              "      <td>Conway, Jose</td>\n",
              "      <td>male</td>\n",
              "      <td>7.00</td>\n",
              "      <td>0</td>\n",
              "      <td>0</td>\n",
              "      <td>A/5</td>\n",
              "      <td>9.77</td>\n",
              "      <td>NaN</td>\n",
              "      <td>S</td>\n",
              "    </tr>\n",
              "    <tr>\n",
              "      <th>7</th>\n",
              "      <td>7</td>\n",
              "      <td>1</td>\n",
              "      <td>3</td>\n",
              "      <td>Werner, Linda</td>\n",
              "      <td>female</td>\n",
              "      <td>6.00</td>\n",
              "      <td>1</td>\n",
              "      <td>2</td>\n",
              "      <td>434426</td>\n",
              "      <td>31.50</td>\n",
              "      <td>NaN</td>\n",
              "      <td>S</td>\n",
              "    </tr>\n",
              "    <tr>\n",
              "      <th>8</th>\n",
              "      <td>8</td>\n",
              "      <td>0</td>\n",
              "      <td>1</td>\n",
              "      <td>Wardlaw, Michael</td>\n",
              "      <td>male</td>\n",
              "      <td>27.00</td>\n",
              "      <td>2</td>\n",
              "      <td>1</td>\n",
              "      <td>474849</td>\n",
              "      <td>73.02</td>\n",
              "      <td>A7253</td>\n",
              "      <td>S</td>\n",
              "    </tr>\n",
              "    <tr>\n",
              "      <th>9</th>\n",
              "      <td>9</td>\n",
              "      <td>0</td>\n",
              "      <td>2</td>\n",
              "      <td>Greigo, Rudy</td>\n",
              "      <td>male</td>\n",
              "      <td>66.00</td>\n",
              "      <td>0</td>\n",
              "      <td>0</td>\n",
              "      <td>6981</td>\n",
              "      <td>9.14</td>\n",
              "      <td>D2969</td>\n",
              "      <td>C</td>\n",
              "    </tr>\n",
              "    <tr>\n",
              "      <th>10</th>\n",
              "      <td>10</td>\n",
              "      <td>0</td>\n",
              "      <td>3</td>\n",
              "      <td>Nichols, William</td>\n",
              "      <td>male</td>\n",
              "      <td>31.00</td>\n",
              "      <td>0</td>\n",
              "      <td>0</td>\n",
              "      <td>459690</td>\n",
              "      <td>8.06</td>\n",
              "      <td>NaN</td>\n",
              "      <td>S</td>\n",
              "    </tr>\n",
              "    <tr>\n",
              "      <th>11</th>\n",
              "      <td>11</td>\n",
              "      <td>0</td>\n",
              "      <td>1</td>\n",
              "      <td>Telschow, Robert</td>\n",
              "      <td>male</td>\n",
              "      <td>60.00</td>\n",
              "      <td>0</td>\n",
              "      <td>0</td>\n",
              "      <td>19600</td>\n",
              "      <td>31.50</td>\n",
              "      <td>A9055</td>\n",
              "      <td>S</td>\n",
              "    </tr>\n",
              "    <tr>\n",
              "      <th>12</th>\n",
              "      <td>12</td>\n",
              "      <td>0</td>\n",
              "      <td>3</td>\n",
              "      <td>Stewart, Pat</td>\n",
              "      <td>male</td>\n",
              "      <td>36.00</td>\n",
              "      <td>0</td>\n",
              "      <td>0</td>\n",
              "      <td>434108</td>\n",
              "      <td>9.34</td>\n",
              "      <td>C8674</td>\n",
              "      <td>S</td>\n",
              "    </tr>\n",
              "    <tr>\n",
              "      <th>13</th>\n",
              "      <td>13</td>\n",
              "      <td>1</td>\n",
              "      <td>2</td>\n",
              "      <td>Raef, Phillip</td>\n",
              "      <td>male</td>\n",
              "      <td>50.00</td>\n",
              "      <td>0</td>\n",
              "      <td>0</td>\n",
              "      <td>3790453</td>\n",
              "      <td>7.88</td>\n",
              "      <td>NaN</td>\n",
              "      <td>Q</td>\n",
              "    </tr>\n",
              "    <tr>\n",
              "      <th>14</th>\n",
              "      <td>14</td>\n",
              "      <td>1</td>\n",
              "      <td>1</td>\n",
              "      <td>Seaton, Karen</td>\n",
              "      <td>female</td>\n",
              "      <td>44.00</td>\n",
              "      <td>0</td>\n",
              "      <td>1</td>\n",
              "      <td>12425</td>\n",
              "      <td>28.40</td>\n",
              "      <td>D6945</td>\n",
              "      <td>C</td>\n",
              "    </tr>\n",
              "    <tr>\n",
              "      <th>15</th>\n",
              "      <td>15</td>\n",
              "      <td>1</td>\n",
              "      <td>3</td>\n",
              "      <td>Estrada, Nancy</td>\n",
              "      <td>female</td>\n",
              "      <td>57.00</td>\n",
              "      <td>0</td>\n",
              "      <td>0</td>\n",
              "      <td>A/S 53862</td>\n",
              "      <td>9.31</td>\n",
              "      <td>NaN</td>\n",
              "      <td>S</td>\n",
              "    </tr>\n",
              "    <tr>\n",
              "      <th>16</th>\n",
              "      <td>16</td>\n",
              "      <td>0</td>\n",
              "      <td>3</td>\n",
              "      <td>Feller, Jimmie</td>\n",
              "      <td>male</td>\n",
              "      <td>53.00</td>\n",
              "      <td>0</td>\n",
              "      <td>0</td>\n",
              "      <td>NaN</td>\n",
              "      <td>7.92</td>\n",
              "      <td>NaN</td>\n",
              "      <td>S</td>\n",
              "    </tr>\n",
              "    <tr>\n",
              "      <th>17</th>\n",
              "      <td>17</td>\n",
              "      <td>0</td>\n",
              "      <td>1</td>\n",
              "      <td>Geiger, Maria</td>\n",
              "      <td>male</td>\n",
              "      <td>43.00</td>\n",
              "      <td>0</td>\n",
              "      <td>0</td>\n",
              "      <td>487299</td>\n",
              "      <td>29.84</td>\n",
              "      <td>NaN</td>\n",
              "      <td>S</td>\n",
              "    </tr>\n",
              "    <tr>\n",
              "      <th>18</th>\n",
              "      <td>18</td>\n",
              "      <td>0</td>\n",
              "      <td>2</td>\n",
              "      <td>Barren, Albert</td>\n",
              "      <td>male</td>\n",
              "      <td>25.00</td>\n",
              "      <td>0</td>\n",
              "      <td>0</td>\n",
              "      <td>24142</td>\n",
              "      <td>8.85</td>\n",
              "      <td>NaN</td>\n",
              "      <td>S</td>\n",
              "    </tr>\n",
              "    <tr>\n",
              "      <th>19</th>\n",
              "      <td>19</td>\n",
              "      <td>1</td>\n",
              "      <td>1</td>\n",
              "      <td>Hall, Stephanie</td>\n",
              "      <td>female</td>\n",
              "      <td>61.00</td>\n",
              "      <td>0</td>\n",
              "      <td>4</td>\n",
              "      <td>PC 174821</td>\n",
              "      <td>205.01</td>\n",
              "      <td>B7010</td>\n",
              "      <td>Q</td>\n",
              "    </tr>\n",
              "  </tbody>\n",
              "</table>\n",
              "</div>"
            ],
            "text/plain": [
              "    PassengerId  Survived  Pclass  ...    Fare   Cabin  Embarked\n",
              "0             0         1       1  ...   27.14  C12239         S\n",
              "1             1         0       3  ...   13.35     NaN         S\n",
              "2             2         0       3  ...   71.29     NaN         S\n",
              "3             3         0       3  ...   13.04     NaN         S\n",
              "4             4         1       3  ...    7.76     NaN         S\n",
              "5             5         0       2  ...    6.71     NaN         S\n",
              "6             6         0       3  ...    9.77     NaN         S\n",
              "7             7         1       3  ...   31.50     NaN         S\n",
              "8             8         0       1  ...   73.02   A7253         S\n",
              "9             9         0       2  ...    9.14   D2969         C\n",
              "10           10         0       3  ...    8.06     NaN         S\n",
              "11           11         0       1  ...   31.50   A9055         S\n",
              "12           12         0       3  ...    9.34   C8674         S\n",
              "13           13         1       2  ...    7.88     NaN         Q\n",
              "14           14         1       1  ...   28.40   D6945         C\n",
              "15           15         1       3  ...    9.31     NaN         S\n",
              "16           16         0       3  ...    7.92     NaN         S\n",
              "17           17         0       1  ...   29.84     NaN         S\n",
              "18           18         0       2  ...    8.85     NaN         S\n",
              "19           19         1       1  ...  205.01   B7010         Q\n",
              "\n",
              "[20 rows x 12 columns]"
            ]
          },
          "metadata": {
            "tags": []
          },
          "execution_count": 15
        }
      ]
    },
    {
      "cell_type": "markdown",
      "metadata": {
        "id": "3-qnyYClRkfL"
      },
      "source": [
        "Смотрим на нули"
      ]
    },
    {
      "cell_type": "code",
      "metadata": {
        "colab": {
          "base_uri": "https://localhost:8080/"
        },
        "id": "jNOBXfseREHz",
        "outputId": "76f94bdb-311d-4eea-dec3-1dae73bc1b43"
      },
      "source": [
        "train.Survived.value_counts()"
      ],
      "execution_count": 18,
      "outputs": [
        {
          "output_type": "execute_result",
          "data": {
            "text/plain": [
              "0    57226\n",
              "1    42774\n",
              "Name: Survived, dtype: int64"
            ]
          },
          "metadata": {
            "tags": []
          },
          "execution_count": 18
        }
      ]
    },
    {
      "cell_type": "code",
      "metadata": {
        "colab": {
          "base_uri": "https://localhost:8080/"
        },
        "id": "DI8rkY0jRvvB",
        "outputId": "8a0fcd92-15ca-458f-aa3c-f46c9ca9fdd2"
      },
      "source": [
        "train.Pclass.value_counts()"
      ],
      "execution_count": 19,
      "outputs": [
        {
          "output_type": "execute_result",
          "data": {
            "text/plain": [
              "3    41006\n",
              "1    30315\n",
              "2    28679\n",
              "Name: Pclass, dtype: int64"
            ]
          },
          "metadata": {
            "tags": []
          },
          "execution_count": 19
        }
      ]
    },
    {
      "cell_type": "code",
      "metadata": {
        "colab": {
          "base_uri": "https://localhost:8080/"
        },
        "id": "N1c5TqO0R9Id",
        "outputId": "4d4cdb96-602c-4940-98dd-18b0a0f954d0"
      },
      "source": [
        ""
      ],
      "execution_count": 20,
      "outputs": [
        {
          "output_type": "execute_result",
          "data": {
            "text/plain": [
              "Survived  Pclass\n",
              "0         3         30865\n",
              "1         1         17576\n",
              "          2         15057\n",
              "0         2         13622\n",
              "          1         12739\n",
              "1         3         10141\n",
              "dtype: int64"
            ]
          },
          "metadata": {
            "tags": []
          },
          "execution_count": 20
        }
      ]
    },
    {
      "cell_type": "code",
      "metadata": {
        "id": "Yjci8kxySJky"
      },
      "source": [
        ""
      ],
      "execution_count": null,
      "outputs": []
    }
  ]
}